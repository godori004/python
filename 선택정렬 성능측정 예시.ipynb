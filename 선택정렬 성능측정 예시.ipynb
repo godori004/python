{
 "cells": [
  {
   "cell_type": "code",
   "execution_count": 1,
   "id": "17dca0ac",
   "metadata": {},
   "outputs": [
    {
     "name": "stdout",
     "output_type": "stream",
     "text": [
      "선택 정렬 성능 측정 : 4.455792188644409\n",
      "기본 정렬 라이브러리 성능 측정 : 0.0009367465972900391\n"
     ]
    }
   ],
   "source": [
    "from random import randint\n",
    "import time\n",
    "\n",
    "#배열에 10,000개의 정수를 삽입\n",
    "array = []\n",
    "\n",
    "for _ in range(10000):\n",
    "    array.append(randint(1,100))#1부터 100사이의 랜덤한 정수\n",
    "    \n",
    "#선택 정렬 프로그램 성능 측정\n",
    "start_time = time.time()\n",
    "\n",
    "#선택 정렬 프로그램 소스 코드\n",
    "for i in range(len(array)):\n",
    "    min_index = i #가장 작은 원소의 인덱스\n",
    "    for j in range(i + 1, len(array)):\n",
    "        if array[min_index] > array[j]:\n",
    "            min_index = j\n",
    "    array[i], array[min_index] = array[min_index], array[i]#스와프\n",
    "\n",
    "end_time = time.time()\n",
    "\n",
    "print(\"선택 정렬 성능 측정 :\", end_time - start_time) #수행 시간 출력\n",
    " \n",
    "#배열을 다시 무작위 데이터로 초기화\n",
    "array = []\n",
    "for _ in range(10000):\n",
    "    array.append(randint(1,100))#1부터 100사이의 랜덤한 정수\n",
    "    \n",
    "# 기본 정렬 라이브러리 성능 측정\n",
    "start_time = time.time()\n",
    "\n",
    "#기본 정렬 라이브러리 상요\n",
    "array.sort()\n",
    "\n",
    "end_time = time.time()\n",
    "\n",
    "print(\"기본 정렬 라이브러리 성능 측정 :\", end_time - start_time) #수행 시간\n",
    "            "
   ]
  },
  {
   "cell_type": "code",
   "execution_count": null,
   "id": "3ab4db4a",
   "metadata": {},
   "outputs": [],
   "source": []
  }
 ],
 "metadata": {
  "kernelspec": {
   "display_name": "base",
   "language": "python",
   "name": "python3"
  },
  "language_info": {
   "codemirror_mode": {
    "name": "ipython",
    "version": 3
   },
   "file_extension": ".py",
   "mimetype": "text/x-python",
   "name": "python",
   "nbconvert_exporter": "python",
   "pygments_lexer": "ipython3",
   "version": "3.9.13"
  }
 },
 "nbformat": 4,
 "nbformat_minor": 5
}
