{
 "cells": [
  {
   "cell_type": "code",
   "execution_count": 10,
   "metadata": {},
   "outputs": [
    {
     "name": "stdout",
     "output_type": "stream",
     "text": [
      "2023-04-11 21:18:17\n",
      "2023-04-11\n"
     ]
    }
   ],
   "source": [
    "import datetime as dt\n",
    "# 날짜 포멧 형식\n",
    "f1 = '%Y-%m-%d %H:%M:%S'\n",
    "f2 = \"%Y-%m-%d\"\n",
    "\n",
    "#오늘 날짜\n",
    "today = dt.datetime.now()\n",
    "\n",
    "\n",
    "#현재 시간에 포맷 적용\n",
    "dstr = dt.datetime.strftime(today, f1)\n",
    "\n",
    "print(dstr)\n",
    "\n",
    "dstr = dt.datetime.strftime(today, f2)\n",
    "\n",
    "print(dstr)\n"
   ]
  },
  {
   "cell_type": "code",
   "execution_count": null,
   "id": "54103687",
   "metadata": {},
   "outputs": [],
   "source": []
  }
 ],
 "metadata": {
  "kernelspec": {
   "display_name": "base",
   "language": "python",
   "name": "python3"
  },
  "language_info": {
   "codemirror_mode": {
    "name": "ipython",
    "version": 3
   },
   "file_extension": ".py",
   "mimetype": "text/x-python",
   "name": "python",
   "nbconvert_exporter": "python",
   "pygments_lexer": "ipython3",
   "version": "3.9.13"
  }
 },
 "nbformat": 4,
 "nbformat_minor": 5
}
