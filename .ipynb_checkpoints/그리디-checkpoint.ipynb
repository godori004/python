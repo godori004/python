{
 "cells": [
  {
   "cell_type": "markdown",
   "id": "bf41ec5f",
   "metadata": {},
   "source": [
    "그리디\n",
    "현재 상황에서 가장 좋아 보이는 것만을 선택하는 알고리즘"
   ]
  }
 ],
 "metadata": {
  "kernelspec": {
   "display_name": "Python 3 (ipykernel)",
   "language": "python",
   "name": "python3"
  },
  "language_info": {
   "codemirror_mode": {
    "name": "ipython",
    "version": 3
   },
   "file_extension": ".py",
   "mimetype": "text/x-python",
   "name": "python",
   "nbconvert_exporter": "python",
   "pygments_lexer": "ipython3",
   "version": "3.9.13"
  }
 },
 "nbformat": 4,
 "nbformat_minor": 5
}
